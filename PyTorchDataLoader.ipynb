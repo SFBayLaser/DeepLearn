{
  "nbformat": 4,
  "nbformat_minor": 0,
  "metadata": {
    "colab": {
      "name": "PyTorchDataLoader.ipynb",
      "version": "0.3.2",
      "provenance": [],
      "include_colab_link": true
    },
    "kernelspec": {
      "name": "python3",
      "display_name": "Python 3"
    }
  },
  "cells": [
    {
      "cell_type": "markdown",
      "metadata": {
        "id": "view-in-github",
        "colab_type": "text"
      },
      "source": [
        "<a href=\"https://colab.research.google.com/github/SFBayLaser/DeepLearn/blob/develop/PyTorchDataLoader.ipynb\" target=\"_parent\"><img src=\"https://colab.research.google.com/assets/colab-badge.svg\" alt=\"Open In Colab\"/></a>"
      ]
    },
    {
      "cell_type": "markdown",
      "metadata": {
        "id": "zm-JEtBQTy7W",
        "colab_type": "text"
      },
      "source": [
        "##New worksheet "
      ]
    },
    {
      "cell_type": "code",
      "metadata": {
        "id": "8X2cjQh4Tl_n",
        "colab_type": "code",
        "colab": {}
      },
      "source": [
        "import h5py as h5"
      ],
      "execution_count": 0,
      "outputs": []
    },
    {
      "cell_type": "markdown",
      "metadata": {
        "id": "U_SWuVVQT3q6",
        "colab_type": "text"
      },
      "source": [
        "Grab the data files to work with"
      ]
    },
    {
      "cell_type": "code",
      "metadata": {
        "id": "-IpdNl2dTrri",
        "colab_type": "code",
        "colab": {
          "base_uri": "https://localhost:8080/",
          "height": 182
        },
        "outputId": "0a6c658f-1865-4192-a687-2d5ecea74d84"
      },
      "source": [
        "! curl -O https://www.nevis.columbia.edu/~kazuhiro/test.h5 ./\n",
        "! curl -O https://www.nevis.columbia.edu/~kazuhiro/train.h5 ./"
      ],
      "execution_count": 2,
      "outputs": [
        {
          "output_type": "stream",
          "text": [
            "  % Total    % Received % Xferd  Average Speed   Time    Time     Time  Current\n",
            "                                 Dload  Upload   Total   Spent    Left  Speed\n",
            "100 71.1M  100 71.1M    0     0  27.8M      0  0:00:02  0:00:02 --:--:-- 27.8M\n",
            "curl: (6) Could not resolve host: \n",
            "  % Total    % Received % Xferd  Average Speed   Time    Time     Time  Current\n",
            "                                 Dload  Upload   Total   Spent    Left  Speed\n",
            "100 70.9M  100 70.9M    0     0  27.0M      0  0:00:02  0:00:02 --:--:-- 27.1M\n",
            "curl: (6) Could not resolve host: \n"
          ],
          "name": "stdout"
        }
      ]
    },
    {
      "cell_type": "markdown",
      "metadata": {
        "id": "83tctQbST6ye",
        "colab_type": "text"
      },
      "source": [
        "Grab our data to look at"
      ]
    },
    {
      "cell_type": "code",
      "metadata": {
        "id": "S2cABSTMTwoa",
        "colab_type": "code",
        "colab": {
          "base_uri": "https://localhost:8080/",
          "height": 51
        },
        "outputId": "457589d5-e8da-4229-daf7-a38fbc2ac9fc"
      },
      "source": [
        "f = h5.File('test.h5','r')\n",
        "print(f)\n",
        "f.keys()"
      ],
      "execution_count": 3,
      "outputs": [
        {
          "output_type": "stream",
          "text": [
            "<HDF5 file \"test.h5\" (mode r)>\n"
          ],
          "name": "stdout"
        },
        {
          "output_type": "execute_result",
          "data": {
            "text/plain": [
              "KeysView(<HDF5 file \"test.h5\" (mode r)>)"
            ]
          },
          "metadata": {
            "tags": []
          },
          "execution_count": 3
        }
      ]
    },
    {
      "cell_type": "code",
      "metadata": {
        "id": "36lrnlbwUDo5",
        "colab_type": "code",
        "colab": {
          "base_uri": "https://localhost:8080/",
          "height": 68
        },
        "outputId": "fb1c1282-d81c-4900-c470-d6ddc5758cd6"
      },
      "source": [
        "for key in f.keys(): print(key)"
      ],
      "execution_count": 4,
      "outputs": [
        {
          "output_type": "stream",
          "text": [
            "image0\n",
            "image1\n",
            "label\n"
          ],
          "name": "stdout"
        }
      ]
    },
    {
      "cell_type": "code",
      "metadata": {
        "id": "z-LDe87NUocm",
        "colab_type": "code",
        "colab": {
          "base_uri": "https://localhost:8080/",
          "height": 34
        },
        "outputId": "e6ea8569-cef5-473f-97b4-834541d5b53f"
      },
      "source": [
        "print(f['label'],' ',f['image0'])"
      ],
      "execution_count": 5,
      "outputs": [
        {
          "output_type": "stream",
          "text": [
            "<HDF5 dataset \"label\": shape (20000,), type \"<f4\">   <HDF5 dataset \"image0\": shape (20000, 256, 256), type \"<f4\">\n"
          ],
          "name": "stdout"
        }
      ]
    },
    {
      "cell_type": "code",
      "metadata": {
        "id": "22IujapBU6uP",
        "colab_type": "code",
        "colab": {
          "base_uri": "https://localhost:8080/",
          "height": 269
        },
        "outputId": "66ce3112-289b-4ac8-ade3-89060b4fee46"
      },
      "source": [
        "import matplotlib.pyplot as plt\n",
        "%matplotlib inline\n",
        "\n",
        "image = f['image0'][5]\n",
        "plt.imshow(image,cmap='jet')\n",
        "plt.show()"
      ],
      "execution_count": 6,
      "outputs": [
        {
          "output_type": "display_data",
          "data": {
            "image/png": "[encoded data removed]",
            "text/plain": [
              "<Figure size 432x288 with 1 Axes>"
            ]
          },
          "metadata": {
            "tags": []
          }
        }
      ]
    },
    {
      "cell_type": "code",
      "metadata": {
        "id": "_9W3Pf7aVTiK",
        "colab_type": "code",
        "colab": {
          "base_uri": "https://localhost:8080/",
          "height": 555
        },
        "outputId": "bcb69ab4-0388-42d2-94bc-f86440ec9046"
      },
      "source": [
        "for entry in range(2):\n",
        "  image = f['image0'][entry]\n",
        "  label = f['label' ][entry]\n",
        "  print('pdgCode:',label)\n",
        "  plt.imshow(image,cmap='jet')\n",
        "  plt.show()"
      ],
      "execution_count": 7,
      "outputs": [
        {
          "output_type": "stream",
          "text": [
            "pdgCode: 2212.0\n"
          ],
          "name": "stdout"
        },
        {
          "output_type": "display_data",
          "data": {
            "image/png": "[encoded data removed]",
            "text/plain": [
              "<Figure size 432x288 with 1 Axes>"
            ]
          },
          "metadata": {
            "tags": []
          }
        },
        {
          "output_type": "stream",
          "text": [
            "pdgCode: 11.0\n"
          ],
          "name": "stdout"
        },
        {
          "output_type": "display_data",
          "data": {
            "image/png": "[encoded data removed]",
            "text/plain": [
              "<Figure size 432x288 with 1 Axes>"
            ]
          },
          "metadata": {
            "tags": []
          }
        }
      ]
    },
    {
      "cell_type": "code",
      "metadata": {
        "id": "tFqHwWqjWaMU",
        "colab_type": "code",
        "colab": {
          "base_uri": "https://localhost:8080/",
          "height": 555
        },
        "outputId": "11bcd315-b443-492b-d2f7-d12c5d23a087"
      },
      "source": [
        "import numpy as np\n",
        "label    = np.array(f['label'])\n",
        "location = np.where(label==11)\n",
        "\n",
        "print(np.shape(location))\n",
        "\n",
        "#slice image array using \"location\"\n",
        "#hint: f['image0'][location]\n",
        "electron_label = label[location]\n",
        "print(electron_label)\n",
        "\n",
        "entries = np.array(location).reshape(-1)\n",
        "for entry in entries[:2]:\n",
        "  image = f['image0'][entry]\n",
        "  plt.imshow(image,cmap='jet')\n",
        "  plt.show()\n"
      ],
      "execution_count": 8,
      "outputs": [
        {
          "output_type": "stream",
          "text": [
            "(1, 4134)\n",
            "[11. 11. 11. ... 11. 11. 11.]\n"
          ],
          "name": "stdout"
        },
        {
          "output_type": "display_data",
          "data": {
            "image/png": "[encoded data removed]",
            "text/plain": [
              "<Figure size 432x288 with 1 Axes>"
            ]
          },
          "metadata": {
            "tags": []
          }
        },
        {
          "output_type": "display_data",
          "data": {
            "image/png": "[encoded data removed]",
            "text/plain": [
              "<Figure size 432x288 with 1 Axes>"
            ]
          },
          "metadata": {
            "tags": []
          }
        }
      ]
    },
    {
      "cell_type": "markdown",
      "metadata": {
        "id": "J_Dw92SEamlt",
        "colab_type": "text"
      },
      "source": [
        "## ok... what's next?"
      ]
    },
    {
      "cell_type": "code",
      "metadata": {
        "id": "FBlFHpjMXin2",
        "colab_type": "code",
        "colab": {
          "base_uri": "https://localhost:8080/",
          "height": 303
        },
        "outputId": "ec93e12e-eb1e-474d-b659-102d74c3d8f8"
      },
      "source": [
        "import h5py  as h5\n",
        "import numpy as np\n",
        "\n",
        "class dataset:\n",
        "  def __init__(self,fname):\n",
        "    self._file=h5.File(fname,'r')\n",
        "    # Make a map for the labels to/from integers\n",
        "    self._label={}\n",
        "    for index, pdgcode in enumerate(np.unique(self._file['label'])):\n",
        "      self._label[pdgcode] = index\n",
        "      \n",
        "  def __len__(self):\n",
        "    return len(self._file['label'])\n",
        "  \n",
        "  def __getitem__(self,index):\n",
        "    # explicitly define as numpy array to avoid overwrite issues\n",
        "    image = np.array(self._file['image0'][index])\n",
        "    label = self._label[self._file['label' ][index]]\n",
        "    return image,label,index\n",
        "  \n",
        "# Test our class and functions\n",
        "d = dataset('test.h5')\n",
        "print(len(d))\n",
        "\n",
        "image,label,index = d[1]\n",
        "print(label)\n",
        "plt.imshow(image,cmap='jet')\n",
        "plt.show()\n",
        "\n"
      ],
      "execution_count": 18,
      "outputs": [
        {
          "output_type": "stream",
          "text": [
            "20000\n",
            "0\n"
          ],
          "name": "stdout"
        },
        {
          "output_type": "display_data",
          "data": {
            "image/png": "[encoded data removed]",
            "text/plain": [
              "<Figure size 432x288 with 1 Axes>"
            ]
          },
          "metadata": {
            "tags": []
          }
        }
      ]
    },
    {
      "cell_type": "markdown",
      "metadata": {
        "id": "OzyEvMbOf1NI",
        "colab_type": "text"
      },
      "source": [
        "And now try a data loader... "
      ]
    },
    {
      "cell_type": "code",
      "metadata": {
        "id": "7HO3nzLHbPIb",
        "colab_type": "code",
        "colab": {
          "base_uri": "https://localhost:8080/",
          "height": 1000
        },
        "outputId": "c183376a-f3b4-4f3e-c3a6-d1fcc50cfd60"
      },
      "source": [
        "from torch.utils.data import DataLoader\n",
        "\n",
        "loader = DataLoader(d, batch_size=10, shuffle=True)\n",
        "\n",
        "batch_data = next(iter(loader))\n",
        "print(len(batch_data))\n",
        "\n",
        "image_batch,label_batch,index_batch = next(iter(loader))\n",
        "print(image_batch.shape)\n",
        "print(index_batch)\n",
        "\n",
        "for index, image in enumerate(image_batch):\n",
        "  label = label_batch[index]\n",
        "  entry = index_batch[index]\n",
        "  print('entry:',entry.item(),'label:',label.item())\n",
        "  plt.imshow(image,cmap='jet')\n",
        "  plt.show()"
      ],
      "execution_count": 25,
      "outputs": [
        {
          "output_type": "stream",
          "text": [
            "3\n",
            "torch.Size([10, 256, 256])\n",
            "tensor([18686,  5373, 10184, 14140, 15554,  9766,   561, 14754, 14022, 11464])\n",
            "entry: 18686 label: 1\n"
          ],
          "name": "stdout"
        },
        {
          "output_type": "display_data",
          "data": {
            "image/png": "[encoded data removed]",
            "text/plain": [
              "<Figure size 432x288 with 1 Axes>"
            ]
          },
          "metadata": {
            "tags": []
          }
        },
        {
          "output_type": "stream",
          "text": [
            "entry: 5373 label: 1\n"
          ],
          "name": "stdout"
        },
        {
          "output_type": "display_data",
          "data": {
            "image/png": "[encoded data removed]",
            "text/plain": [
              "<Figure size 432x288 with 1 Axes>"
            ]
          },
          "metadata": {
            "tags": []
          }
        },
        {
          "output_type": "stream",
          "text": [
            "entry: 10184 label: 3\n"
          ],
          "name": "stdout"
        },
        {
          "output_type": "display_data",
          "data": {
            "image/png": "[encoded data removed]",
            "text/plain": [
              "<Figure size 432x288 with 1 Axes>"
            ]
          },
          "metadata": {
            "tags": []
          }
        },
        {
          "output_type": "stream",
          "text": [
            "entry: 14140 label: 1\n"
          ],
          "name": "stdout"
        },
        {
          "output_type": "display_data",
          "data": {
            "image/png": "[encoded data removed]",
            "text/plain": [
              "<Figure size 432x288 with 1 Axes>"
            ]
          },
          "metadata": {
            "tags": []
          }
        },
        {
          "output_type": "stream",
          "text": [
            "entry: 15554 label: 1\n"
          ],
          "name": "stdout"
        },
        {
          "output_type": "display_data",
          "data": {
            "image/png": "[encoded data removed]",
            "text/plain": [
              "<Figure size 432x288 with 1 Axes>"
            ]
          },
          "metadata": {
            "tags": []
          }
        },
        {
          "output_type": "stream",
          "text": [
            "entry: 9766 label: 0\n"
          ],
          "name": "stdout"
        },
        {
          "output_type": "display_data",
          "data": {
            "image/png": "[encoded data removed]",
            "text/plain": [
              "<Figure size 432x288 with 1 Axes>"
            ]
          },
          "metadata": {
            "tags": []
          }
        },
        {
          "output_type": "stream",
          "text": [
            "entry: 561 label: 1\n"
          ],
          "name": "stdout"
        },
        {
          "output_type": "display_data",
          "data": {
            "image/png": "[encoded data removed]",
            "text/plain": [
              "<Figure size 432x288 with 1 Axes>"
            ]
          },
          "metadata": {
            "tags": []
          }
        },
        {
          "output_type": "stream",
          "text": [
            "entry: 14754 label: 0\n"
          ],
          "name": "stdout"
        },
        {
          "output_type": "display_data",
          "data": {
            "image/png": "[encoded data removed]",
            "text/plain": [
              "<Figure size 432x288 with 1 Axes>"
            ]
          },
          "metadata": {
            "tags": []
          }
        },
        {
          "output_type": "stream",
          "text": [
            "entry: 14022 label: 4\n"
          ],
          "name": "stdout"
        },
        {
          "output_type": "display_data",
          "data": {
            "image/png": "[encoded data removed]",
            "text/plain": [
              "<Figure size 432x288 with 1 Axes>"
            ]
          },
          "metadata": {
            "tags": []
          }
        },
        {
          "output_type": "stream",
          "text": [
            "entry: 11464 label: 2\n"
          ],
          "name": "stdout"
        },
        {
          "output_type": "display_data",
          "data": {
            "image/png": "[encoded data removed]",
            "text/plain": [
              "<Figure size 432x288 with 1 Axes>"
            ]
          },
          "metadata": {
            "tags": []
          }
        }
      ]
    },
    {
      "cell_type": "code",
      "metadata": {
        "id": "dowC-Q6Yf-3_",
        "colab_type": "code",
        "colab": {}
      },
      "source": [
        ""
      ],
      "execution_count": 0,
      "outputs": []
    }
  ]
}