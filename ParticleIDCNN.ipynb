{
  "nbformat": 4,
  "nbformat_minor": 0,
  "metadata": {
    "colab": {
      "name": "ParticleIDCNN.ipynb",
      "version": "0.3.2",
      "provenance": [],
      "include_colab_link": true
    },
    "language_info": {
      "codemirror_mode": {
        "name": "ipython",
        "version": 3
      },
      "file_extension": ".py",
      "mimetype": "text/x-python",
      "name": "python",
      "nbconvert_exporter": "python",
      "pygments_lexer": "ipython3",
      "version": "3.6.7"
    },
    "kernelspec": {
      "name": "python3",
      "display_name": "Python 3"
    },
    "accelerator": "GPU"
  },
  "cells": [
    {
      "cell_type": "markdown",
      "metadata": {
        "id": "view-in-github",
        "colab_type": "text"
      },
      "source": [
        "<a href=\"https://colab.research.google.com/github/SFBayLaser/DeepLearn/blob/develop/ParticleIDCNN.ipynb\" target=\"_parent\"><img src=\"https://colab.research.google.com/assets/colab-badge.svg\" alt=\"Open In Colab\"/></a>"
      ]
    },
    {
      "cell_type": "markdown",
      "metadata": {
        "id": "WVuZRIue_7aJ",
        "colab_type": "text"
      },
      "source": [
        "# CNN on CIFAR-10\n",
        "**This notebook: [see on github](https://github.com/drinkingkazu/2019-06-17-NeuralNets/blob/master/CIFAR-10%20CNN.ipynb) or [run it on google colab](https://colab.research.google.com/github/drinkingkazu/2019-06-17-NeuralNets/blob/master/CIFAR-10%20CNN.ipynb)**.\n",
        "\n",
        "This notebook trains CNN on CIFAR-10 dataset, 10 object classification in 32x32 pixels images with 3 channels. \n",
        "\n",
        "# BUT\n",
        "We are modifying this for our input particle identification which has 5 outputs"
      ]
    },
    {
      "cell_type": "code",
      "metadata": {
        "id": "smVphKSz_7aM",
        "colab_type": "code",
        "colab": {}
      },
      "source": [
        "from __future__ import print_function\n",
        "import matplotlib\n",
        "%matplotlib inline\n",
        "import torch\n",
        "import numpy as np\n",
        "SEED=123\n",
        "_=np.random.seed(SEED)\n",
        "_=torch.manual_seed(SEED)"
      ],
      "execution_count": 0,
      "outputs": []
    },
    {
      "cell_type": "markdown",
      "metadata": {
        "id": "vtZG9pNW_7aR",
        "colab_type": "text"
      },
      "source": [
        "We will use [`kworkshop.utils`](https://github.com/drinkingkazu/kworkshop/blob/master/utils) package. In case it's not available here, curl it."
      ]
    },
    {
      "cell_type": "code",
      "metadata": {
        "id": "Z7mvOEyE_7aS",
        "colab_type": "code",
        "outputId": "0847572e-a269-459c-92b1-56ac55f74dbf",
        "colab": {
          "base_uri": "https://localhost:8080/",
          "height": 208
        }
      },
      "source": [
        "! [ -d kworkshop ] || git clone -b 2019-06-17-NeuralNets https://github.com/drinkingkazu/kworkshop\n",
        "! [ -f kworkshop ] || curl -O https://www.nevis.columbia.edu/~kazuhiro/test.h5 ./\n",
        "! [ -f kworkshop ] || curl -O https://www.nevis.columbia.edu/~kazuhiro/train.h5 ./"
      ],
      "execution_count": 0,
      "outputs": [
        {
          "output_type": "stream",
          "text": [
            "  % Total    % Received % Xferd  Average Speed   Time    Time     Time  Current\n",
            "                                 Dload  Upload   Total   Spent    Left  Speed\n",
            "100 71.1M  100 71.1M    0     0  27.1M      0  0:00:02  0:00:02 --:--:-- 27.1M\n",
            "curl: (6) Could not resolve host: \n",
            "  % Total    % Received % Xferd  Average Speed   Time    Time     Time  Current\n",
            "                                 Dload  Upload   Total   Spent    Left  Speed\n",
            "100 70.9M  100 70.9M    0     0  28.0M      0  0:00:02  0:00:02 --:--:-- 28.0M\n",
            "curl: (6) Could not resolve host: \n"
          ],
          "name": "stdout"
        }
      ]
    },
    {
      "cell_type": "code",
      "metadata": {
        "id": "TTkT-DNzAtDw",
        "colab_type": "code",
        "colab": {}
      },
      "source": [
        "import h5py as h5\n",
        "import torch\n",
        "from torch.utils.data import Dataset,DataLoader\n",
        "\n",
        "class dataset:\n",
        "  def __init__(self,fname):\n",
        "    self._file=h5.File(fname,'r')\n",
        "    # Make a map for the labels to/from integers\n",
        "    self._label={}\n",
        "    for index, pdgcode in enumerate(np.unique(self._file['label'])):\n",
        "      self._label[pdgcode] = index\n",
        "      \n",
        "  def __len__(self):\n",
        "    return len(self._file['label'])\n",
        "  \n",
        "  def __getitem__(self,index):\n",
        "    # explicitly define as numpy array to avoid overwrite issues\n",
        "    # Also note that we need to add a dimension for the channel\n",
        "    image = np.expand_dims(np.array(self._file['image0'][index]),0)\n",
        "    # We need to add a channel dimension to our output\n",
        "    #shape = [1] + list(image.shape)\n",
        "    #image = image.reshape(shape)\n",
        "    # Now get the label\n",
        "    label = self._label[self._file['label' ][index]]\n",
        "    return image,label #,index\n",
        "  \n",
        "train_dataset = dataset('train.h5')\n",
        "train_loader  = DataLoader(train_dataset, batch_size=10, shuffle=True)\n",
        "\n",
        "test_dataset = dataset('test.h5')\n",
        "test_loader  = DataLoader(test_dataset, batch_size=10, shuffle=True)\n"
      ],
      "execution_count": 0,
      "outputs": []
    },
    {
      "cell_type": "markdown",
      "metadata": {
        "id": "4_EKUAX2_7aW",
        "colab_type": "text"
      },
      "source": [
        "# Prepare dataset"
      ]
    },
    {
      "cell_type": "code",
      "metadata": {
        "id": "zW2j8wnA_7aW",
        "colab_type": "code",
        "colab": {}
      },
      "source": [
        "#from torchvision import datasets, transforms\n",
        "## Data file download directory\n",
        "#LOCAL_DATA_DIR = './data'\n",
        "## Prepare train data\n",
        "#train_dataset = datasets.CIFAR10(LOCAL_DATA_DIR, train=True, download=True,\n",
        "#                                 transform=transforms.Compose([transforms.ToTensor()]))\n",
        "#train_loader = torch.utils.data.DataLoader(train_dataset,batch_size=32,shuffle=True,num_workers=1,pin_memory=True)\n",
        "## Prepare test data\n",
        "#test_dataset = datasets.CIFAR10(LOCAL_DATA_DIR, train=False, download=True,\n",
        "#                                transform=transforms.Compose([transforms.ToTensor()]))\n",
        "#test_loader = torch.utils.data.DataLoader(test_dataset,batch_size=40,shuffle=False,num_workers=2,pin_memory=True)\n",
        "# Visualize classes\n",
        "#from kworkshop.utils import plot_dataset\n",
        "#plot_dataset(train_dataset)"
      ],
      "execution_count": 0,
      "outputs": []
    },
    {
      "cell_type": "markdown",
      "metadata": {
        "id": "2Azcbin3_7ab",
        "colab_type": "text"
      },
      "source": [
        "<a href=\"network\"></a>\n",
        "# Define a network"
      ]
    },
    {
      "cell_type": "code",
      "metadata": {
        "id": "fc91aOoL_7ab",
        "colab_type": "code",
        "colab": {}
      },
      "source": [
        "class CNN(torch.nn.Module):\n",
        "    def __init__(self):\n",
        "        \n",
        "        super(CNN, self).__init__()\n",
        "        # feature extractor CNN\n",
        "        self._feature_extractor = torch.nn.Sequential(\n",
        "            # 256 with 1 channel\n",
        "            torch.nn.Conv2d(1,32,3,padding=1), torch.nn.BatchNorm2d(32),            \n",
        "            torch.nn.ReLU(),\n",
        "            torch.nn.Conv2d(32,32,3,padding=1), torch.nn.BatchNorm2d(32),\n",
        "            torch.nn.ReLU(),\n",
        "            torch.nn.MaxPool2d(2,2),\n",
        "            # 128\n",
        "            torch.nn.Conv2d(32,64,3,padding=1), torch.nn.BatchNorm2d(64),            \n",
        "            torch.nn.ReLU(),\n",
        "            torch.nn.Conv2d(64,64,3,padding=1), torch.nn.BatchNorm2d(64),\n",
        "            torch.nn.ReLU(),\n",
        "            torch.nn.MaxPool2d(2,2),\n",
        "            # 64\n",
        "            torch.nn.Conv2d(64,128,3,padding=1), torch.nn.BatchNorm2d(128),\n",
        "            torch.nn.ReLU(),\n",
        "            torch.nn.Conv2d(128,128,3,padding=1), torch.nn.BatchNorm2d(128),\n",
        "            torch.nn.ReLU(),\n",
        "            torch.nn.MaxPool2d(2,2),\n",
        "            # 32\n",
        "            torch.nn.Conv2d(128,256,3,padding=1), torch.nn.BatchNorm2d(256),\n",
        "            torch.nn.ReLU(),\n",
        "            torch.nn.Conv2d(256,256,3,padding=1), torch.nn.BatchNorm2d(256),\n",
        "            torch.nn.ReLU())\n",
        "        # classifier MLP\n",
        "        self._classifier = torch.nn.Sequential(\n",
        "            torch.nn.Linear(32*32*256,256),\n",
        "            torch.nn.ReLU(),\n",
        "            torch.nn.Linear(256,256),\n",
        "            torch.nn.ReLU(),\n",
        "            torch.nn.Linear(256,5) )\n",
        "        \n",
        "        def weights_init(m):\n",
        "            if isinstance(m, torch.nn.Conv2d):\n",
        "                torch.nn.init.kaiming_uniform_(m.weight)\n",
        "                    \n",
        "        self._feature_extractor.apply(weights_init)\n",
        "\n",
        "    def forward(self, x):\n",
        "        # extract features\n",
        "        features = self._feature_extractor(x)\n",
        "        # flatten the 3d tensor (2d space x channels = features)\n",
        "        features = features.view(-1, np.prod(features.size()[1:]))\n",
        "        # classify and return\n",
        "        return self._classifier(features)"
      ],
      "execution_count": 0,
      "outputs": []
    },
    {
      "cell_type": "markdown",
      "metadata": {
        "id": "X4FyxZTj_7ad",
        "colab_type": "text"
      },
      "source": [
        "# Create Blob"
      ]
    },
    {
      "cell_type": "code",
      "metadata": {
        "id": "VxmeDsMm_7ae",
        "colab_type": "code",
        "colab": {}
      },
      "source": [
        "class BLOB:\n",
        "    pass\n",
        "blob=BLOB()\n",
        "blob.net       = CNN().cuda() # construct Lenet, use GPU\n",
        "blob.criterion = torch.nn.CrossEntropyLoss() # use softmax loss to define an error\n",
        "blob.optimizer = torch.optim.Adam(blob.net.parameters(),weight_decay=0.001) # use Adam optimizer algorithm\n",
        "blob.softmax   = torch.nn.Softmax(dim=1) # not for training, but softmax score for each class\n",
        "blob.iteration = 0    # integer count for the number of train steps\n",
        "blob.data      = None # data for training/analysis\n",
        "blob.label     = None # label for training/analysis"
      ],
      "execution_count": 0,
      "outputs": []
    },
    {
      "cell_type": "markdown",
      "metadata": {
        "id": "q390Hdei_7af",
        "colab_type": "text"
      },
      "source": [
        "<a href=\"train\"></a>\n",
        "# Train"
      ]
    },
    {
      "cell_type": "code",
      "metadata": {
        "id": "u5pUTE6C_7ag",
        "colab_type": "code",
        "outputId": "79d0af1c-623d-4152-f637-b8b1e51e377a",
        "colab": {
          "base_uri": "https://localhost:8080/",
          "height": 535
        }
      },
      "source": [
        "# Import train_loop, plot_loss\n",
        "from kworkshop.utils import train_loop, plot_loss, save_state\n",
        "# Train\n",
        "plot_loss(train_loop(blob,train_loader,num_iteration=10000))\n",
        "# Save\n",
        "blob.weight_file=save_state(blob,prefix='./CIFAR10-CNN')"
      ],
      "execution_count": 0,
      "outputs": [
        {
          "output_type": "display_data",
          "data": {
            "text/html": [
              "\n",
              "        <progress \n",
              "            value='10000'\n",
              "            max='10000',\n",
              "            style='width: 30%'\n",
              "        >\n",
              "            10000\n",
              "        </progress> 100% Iteration: 10000 Loss: 0.83 Accuracy: 0.40\n",
              "    "
            ],
            "text/plain": [
              "<IPython.core.display.HTML object>"
            ]
          },
          "metadata": {
            "tags": []
          }
        },
        {
          "output_type": "display_data",
          "data": {
            "image/png": "[encoded data removed]",
            "text/plain": [
              "<Figure size 864x576 with 1 Axes>"
            ]
          },
          "metadata": {
            "tags": []
          }
        }
      ]
    },
    {
      "cell_type": "markdown",
      "metadata": {
        "id": "Jd5AxkeG_7ai",
        "colab_type": "text"
      },
      "source": [
        "# Evaluation"
      ]
    },
    {
      "cell_type": "code",
      "metadata": {
        "scrolled": false,
        "id": "7fhN7hBL_7ai",
        "colab_type": "code",
        "colab": {}
      },
      "source": [
        "# For plotting a confusion matrix\n",
        "from kworkshop.utils import inference_loop, plot_confusion_matrix, plot_softmax, restore_state\n",
        "\n",
        "# Re-load the state if the weight_file is provided\n",
        "if hasattr(blob,'weight_file') and blob.weight_file:\n",
        "    restore_state(blob)\n",
        "\n",
        "# For the Train set\n",
        "accuracy, label, prediction, softmax = inference_loop(blob,train_loader,True)\n",
        "print(\"Train set accuracy mean\",accuracy.mean(),\"std\",accuracy.std())\n",
        "plot_confusion_matrix(label,prediction,[str(d) for d in range(10)])\n",
        "plot_softmax(label,softmax)\n",
        "\n",
        "# For the Test set\n",
        "accuracy, label, prediction, softmax = inference_loop(blob,test_loader,False)\n",
        "print(\"Test set accuracy mean\",accuracy.mean(),\"std\",accuracy.std())\n",
        "plot_confusion_matrix(label,prediction,[str(d) for d in range(10)])\n",
        "plot_softmax(label,softmax)"
      ],
      "execution_count": 0,
      "outputs": []
    }
  ]
}